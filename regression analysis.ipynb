{
 "cells": [
  {
   "cell_type": "code",
   "execution_count": 1,
   "id": "b36eda67",
   "metadata": {},
   "outputs": [],
   "source": [
    "import pandas as pd\n",
    "import numpy as np\n",
    "import matplotlib.pyplot as plt\n",
    "import seaborn as sns "
   ]
  },
  {
   "cell_type": "code",
   "execution_count": 2,
   "id": "1b44bb61",
   "metadata": {},
   "outputs": [
    {
     "data": {
      "text/html": [
       "<div>\n",
       "<style scoped>\n",
       "    .dataframe tbody tr th:only-of-type {\n",
       "        vertical-align: middle;\n",
       "    }\n",
       "\n",
       "    .dataframe tbody tr th {\n",
       "        vertical-align: top;\n",
       "    }\n",
       "\n",
       "    .dataframe thead th {\n",
       "        text-align: right;\n",
       "    }\n",
       "</style>\n",
       "<table border=\"1\" class=\"dataframe\">\n",
       "  <thead>\n",
       "    <tr style=\"text-align: right;\">\n",
       "      <th></th>\n",
       "      <th>Year</th>\n",
       "      <th>GDP growth (annual %)</th>\n",
       "      <th>Gross capital formation (% of GDP)</th>\n",
       "      <th>Population growth (annual %)</th>\n",
       "      <th>Birth rate, crude (per 1,000 people)</th>\n",
       "      <th>Broad money growth (annual %)</th>\n",
       "      <th>Final consumption expenditure (annual % growth)</th>\n",
       "      <th>General government final consumption expenditure (annual % growth)</th>\n",
       "      <th>Gross capital formation (annual % growth)</th>\n",
       "      <th>Households and NPISHs Final consumption expenditure (annual % growth)</th>\n",
       "      <th>Unemployment, total (% of total labor force) (national estimate)</th>\n",
       "    </tr>\n",
       "  </thead>\n",
       "  <tbody>\n",
       "    <tr>\n",
       "      <th>0</th>\n",
       "      <td>1969</td>\n",
       "      <td>14.541235</td>\n",
       "      <td>29.943577</td>\n",
       "      <td>2.263434</td>\n",
       "      <td>30.663</td>\n",
       "      <td>60.984733</td>\n",
       "      <td>10.693249</td>\n",
       "      <td>10.640799</td>\n",
       "      <td>29.908118</td>\n",
       "      <td>10.700325</td>\n",
       "      <td>4.86</td>\n",
       "    </tr>\n",
       "    <tr>\n",
       "      <th>1</th>\n",
       "      <td>1970</td>\n",
       "      <td>9.997407</td>\n",
       "      <td>26.338200</td>\n",
       "      <td>2.184174</td>\n",
       "      <td>31.2</td>\n",
       "      <td>27.422864</td>\n",
       "      <td>10.161539</td>\n",
       "      <td>7.279573</td>\n",
       "      <td>0.058667</td>\n",
       "      <td>10.557300</td>\n",
       "      <td>4.51</td>\n",
       "    </tr>\n",
       "    <tr>\n",
       "      <th>2</th>\n",
       "      <td>1971</td>\n",
       "      <td>10.454693</td>\n",
       "      <td>25.558501</td>\n",
       "      <td>1.971324</td>\n",
       "      <td>31.2</td>\n",
       "      <td>20.844481</td>\n",
       "      <td>9.330434</td>\n",
       "      <td>8.610547</td>\n",
       "      <td>15.172870</td>\n",
       "      <td>9.426969</td>\n",
       "      <td>4.57</td>\n",
       "    </tr>\n",
       "    <tr>\n",
       "      <th>3</th>\n",
       "      <td>1972</td>\n",
       "      <td>7.150715</td>\n",
       "      <td>21.404761</td>\n",
       "      <td>1.875999</td>\n",
       "      <td>28.4</td>\n",
       "      <td>33.815028</td>\n",
       "      <td>5.788458</td>\n",
       "      <td>8.134824</td>\n",
       "      <td>-13.056701</td>\n",
       "      <td>5.471355</td>\n",
       "      <td>4.59</td>\n",
       "    </tr>\n",
       "    <tr>\n",
       "      <th>4</th>\n",
       "      <td>1973</td>\n",
       "      <td>14.827554</td>\n",
       "      <td>25.872858</td>\n",
       "      <td>1.768293</td>\n",
       "      <td>28.3</td>\n",
       "      <td>36.415629</td>\n",
       "      <td>8.089952</td>\n",
       "      <td>2.287729</td>\n",
       "      <td>32.098276</td>\n",
       "      <td>8.927295</td>\n",
       "      <td>4.04</td>\n",
       "    </tr>\n",
       "  </tbody>\n",
       "</table>\n",
       "</div>"
      ],
      "text/plain": [
       "   Year  GDP growth (annual %)  Gross capital formation (% of GDP)  \\\n",
       "0  1969              14.541235                           29.943577   \n",
       "1  1970               9.997407                           26.338200   \n",
       "2  1971              10.454693                           25.558501   \n",
       "3  1972               7.150715                           21.404761   \n",
       "4  1973              14.827554                           25.872858   \n",
       "\n",
       "   Population growth (annual %) Birth rate, crude (per 1,000 people)  \\\n",
       "0                      2.263434                               30.663   \n",
       "1                      2.184174                                 31.2   \n",
       "2                      1.971324                                 31.2   \n",
       "3                      1.875999                                 28.4   \n",
       "4                      1.768293                                 28.3   \n",
       "\n",
       "   Broad money growth (annual %)  \\\n",
       "0                      60.984733   \n",
       "1                      27.422864   \n",
       "2                      20.844481   \n",
       "3                      33.815028   \n",
       "4                      36.415629   \n",
       "\n",
       "   Final consumption expenditure (annual % growth)  \\\n",
       "0                                        10.693249   \n",
       "1                                        10.161539   \n",
       "2                                         9.330434   \n",
       "3                                         5.788458   \n",
       "4                                         8.089952   \n",
       "\n",
       "   General government final consumption expenditure (annual % growth)  \\\n",
       "0                                          10.640799                    \n",
       "1                                           7.279573                    \n",
       "2                                           8.610547                    \n",
       "3                                           8.134824                    \n",
       "4                                           2.287729                    \n",
       "\n",
       "   Gross capital formation (annual % growth)  \\\n",
       "0                                  29.908118   \n",
       "1                                   0.058667   \n",
       "2                                  15.172870   \n",
       "3                                 -13.056701   \n",
       "4                                  32.098276   \n",
       "\n",
       "   Households and NPISHs Final consumption expenditure (annual % growth)  \\\n",
       "0                                          10.700325                       \n",
       "1                                          10.557300                       \n",
       "2                                           9.426969                       \n",
       "3                                           5.471355                       \n",
       "4                                           8.927295                       \n",
       "\n",
       "   Unemployment, total (% of total labor force) (national estimate)  \n",
       "0                                               4.86                 \n",
       "1                                               4.51                 \n",
       "2                                               4.57                 \n",
       "3                                               4.59                 \n",
       "4                                               4.04                 "
      ]
     },
     "execution_count": 2,
     "metadata": {},
     "output_type": "execute_result"
    }
   ],
   "source": [
    "df=pd.read_excel('korea_data.xlsx')\n",
    "df.head()"
   ]
  },
  {
   "cell_type": "code",
   "execution_count": 3,
   "id": "852c80cb",
   "metadata": {},
   "outputs": [
    {
     "data": {
      "text/plain": [
       "(49, 11)"
      ]
     },
     "execution_count": 3,
     "metadata": {},
     "output_type": "execute_result"
    }
   ],
   "source": [
    "df.shape"
   ]
  },
  {
   "cell_type": "code",
   "execution_count": 4,
   "id": "91049611",
   "metadata": {},
   "outputs": [
    {
     "data": {
      "text/plain": [
       "Index(['Year', 'GDP growth (annual %)', 'Gross capital formation (% of GDP)',\n",
       "       'Population growth (annual %)', 'Birth rate, crude (per 1,000 people)',\n",
       "       'Broad money growth (annual %)',\n",
       "       'Final consumption expenditure (annual % growth)',\n",
       "       'General government final consumption expenditure (annual % growth)',\n",
       "       'Gross capital formation (annual % growth)',\n",
       "       'Households and NPISHs Final consumption expenditure (annual % growth)',\n",
       "       'Unemployment, total (% of total labor force) (national estimate)'],\n",
       "      dtype='object')"
      ]
     },
     "execution_count": 4,
     "metadata": {},
     "output_type": "execute_result"
    }
   ],
   "source": [
    "df.columns"
   ]
  },
  {
   "cell_type": "code",
   "execution_count": 5,
   "id": "525b374d",
   "metadata": {},
   "outputs": [
    {
     "data": {
      "text/html": [
       "<div>\n",
       "<style scoped>\n",
       "    .dataframe tbody tr th:only-of-type {\n",
       "        vertical-align: middle;\n",
       "    }\n",
       "\n",
       "    .dataframe tbody tr th {\n",
       "        vertical-align: top;\n",
       "    }\n",
       "\n",
       "    .dataframe thead th {\n",
       "        text-align: right;\n",
       "    }\n",
       "</style>\n",
       "<table border=\"1\" class=\"dataframe\">\n",
       "  <thead>\n",
       "    <tr style=\"text-align: right;\">\n",
       "      <th></th>\n",
       "      <th>Year</th>\n",
       "      <th>x1</th>\n",
       "      <th>x2</th>\n",
       "      <th>x3</th>\n",
       "      <th>x4</th>\n",
       "      <th>x5</th>\n",
       "      <th>x6</th>\n",
       "      <th>x7</th>\n",
       "      <th>x8</th>\n",
       "      <th>x9</th>\n",
       "      <th>x10</th>\n",
       "    </tr>\n",
       "  </thead>\n",
       "  <tbody>\n",
       "    <tr>\n",
       "      <th>0</th>\n",
       "      <td>1969</td>\n",
       "      <td>14.541235</td>\n",
       "      <td>29.943577</td>\n",
       "      <td>2.263434</td>\n",
       "      <td>30.663</td>\n",
       "      <td>60.984733</td>\n",
       "      <td>10.693249</td>\n",
       "      <td>10.640799</td>\n",
       "      <td>29.908118</td>\n",
       "      <td>10.700325</td>\n",
       "      <td>4.86</td>\n",
       "    </tr>\n",
       "    <tr>\n",
       "      <th>1</th>\n",
       "      <td>1970</td>\n",
       "      <td>9.997407</td>\n",
       "      <td>26.338200</td>\n",
       "      <td>2.184174</td>\n",
       "      <td>31.2</td>\n",
       "      <td>27.422864</td>\n",
       "      <td>10.161539</td>\n",
       "      <td>7.279573</td>\n",
       "      <td>0.058667</td>\n",
       "      <td>10.557300</td>\n",
       "      <td>4.51</td>\n",
       "    </tr>\n",
       "    <tr>\n",
       "      <th>2</th>\n",
       "      <td>1971</td>\n",
       "      <td>10.454693</td>\n",
       "      <td>25.558501</td>\n",
       "      <td>1.971324</td>\n",
       "      <td>31.2</td>\n",
       "      <td>20.844481</td>\n",
       "      <td>9.330434</td>\n",
       "      <td>8.610547</td>\n",
       "      <td>15.172870</td>\n",
       "      <td>9.426969</td>\n",
       "      <td>4.57</td>\n",
       "    </tr>\n",
       "    <tr>\n",
       "      <th>3</th>\n",
       "      <td>1972</td>\n",
       "      <td>7.150715</td>\n",
       "      <td>21.404761</td>\n",
       "      <td>1.875999</td>\n",
       "      <td>28.4</td>\n",
       "      <td>33.815028</td>\n",
       "      <td>5.788458</td>\n",
       "      <td>8.134824</td>\n",
       "      <td>-13.056701</td>\n",
       "      <td>5.471355</td>\n",
       "      <td>4.59</td>\n",
       "    </tr>\n",
       "    <tr>\n",
       "      <th>4</th>\n",
       "      <td>1973</td>\n",
       "      <td>14.827554</td>\n",
       "      <td>25.872858</td>\n",
       "      <td>1.768293</td>\n",
       "      <td>28.3</td>\n",
       "      <td>36.415629</td>\n",
       "      <td>8.089952</td>\n",
       "      <td>2.287729</td>\n",
       "      <td>32.098276</td>\n",
       "      <td>8.927295</td>\n",
       "      <td>4.04</td>\n",
       "    </tr>\n",
       "  </tbody>\n",
       "</table>\n",
       "</div>"
      ],
      "text/plain": [
       "   Year         x1         x2        x3      x4         x5         x6  \\\n",
       "0  1969  14.541235  29.943577  2.263434  30.663  60.984733  10.693249   \n",
       "1  1970   9.997407  26.338200  2.184174    31.2  27.422864  10.161539   \n",
       "2  1971  10.454693  25.558501  1.971324    31.2  20.844481   9.330434   \n",
       "3  1972   7.150715  21.404761  1.875999    28.4  33.815028   5.788458   \n",
       "4  1973  14.827554  25.872858  1.768293    28.3  36.415629   8.089952   \n",
       "\n",
       "          x7         x8         x9   x10  \n",
       "0  10.640799  29.908118  10.700325  4.86  \n",
       "1   7.279573   0.058667  10.557300  4.51  \n",
       "2   8.610547  15.172870   9.426969  4.57  \n",
       "3   8.134824 -13.056701   5.471355  4.59  \n",
       "4   2.287729  32.098276   8.927295  4.04  "
      ]
     },
     "execution_count": 5,
     "metadata": {},
     "output_type": "execute_result"
    }
   ],
   "source": [
    "df.rename(columns={df.columns[1]: 'x1', df.columns[2]: 'x2', df.columns[3]: 'x3', df.columns[4]: 'x4', df.columns[5]: 'x5', df.columns[6]: 'x6', df.columns[7]: 'x7', df.columns[8]: 'x8', df.columns[9]: 'x9', df.columns[10]: 'x10'}, inplace=True) \n",
    "df.head()"
   ]
  },
  {
   "cell_type": "code",
   "execution_count": 6,
   "id": "aa6fe685",
   "metadata": {},
   "outputs": [
    {
     "name": "stdout",
     "output_type": "stream",
     "text": [
      "<class 'pandas.core.frame.DataFrame'>\n",
      "RangeIndex: 49 entries, 0 to 48\n",
      "Data columns (total 11 columns):\n",
      " #   Column  Non-Null Count  Dtype  \n",
      "---  ------  --------------  -----  \n",
      " 0   Year    49 non-null     int64  \n",
      " 1   x1      49 non-null     float64\n",
      " 2   x2      49 non-null     float64\n",
      " 3   x3      49 non-null     float64\n",
      " 4   x4      49 non-null     object \n",
      " 5   x5      49 non-null     float64\n",
      " 6   x6      49 non-null     float64\n",
      " 7   x7      49 non-null     float64\n",
      " 8   x8      49 non-null     float64\n",
      " 9   x9      49 non-null     float64\n",
      " 10  x10     49 non-null     float64\n",
      "dtypes: float64(9), int64(1), object(1)\n",
      "memory usage: 4.3+ KB\n"
     ]
    }
   ],
   "source": [
    "df.info()"
   ]
  },
  {
   "cell_type": "code",
   "execution_count": 7,
   "id": "8c867a19",
   "metadata": {},
   "outputs": [
    {
     "data": {
      "text/plain": [
       "Year    0\n",
       "x1      0\n",
       "x2      0\n",
       "x3      0\n",
       "x4      0\n",
       "x5      0\n",
       "x6      0\n",
       "x7      0\n",
       "x8      0\n",
       "x9      0\n",
       "x10     0\n",
       "dtype: int64"
      ]
     },
     "execution_count": 7,
     "metadata": {},
     "output_type": "execute_result"
    }
   ],
   "source": [
    "df.isnull().sum()"
   ]
  },
  {
   "cell_type": "code",
   "execution_count": 8,
   "id": "b84a8f59",
   "metadata": {},
   "outputs": [
    {
     "data": {
      "text/plain": [
       "Year    0.0\n",
       "x1      0.0\n",
       "x2      0.0\n",
       "x3      0.0\n",
       "x4      0.0\n",
       "x5      0.0\n",
       "x6      0.0\n",
       "x7      0.0\n",
       "x8      0.0\n",
       "x9      0.0\n",
       "x10     0.0\n",
       "dtype: float64"
      ]
     },
     "execution_count": 8,
     "metadata": {},
     "output_type": "execute_result"
    }
   ],
   "source": [
    "df.isna().sum()/df.shape[0]"
   ]
  },
  {
   "cell_type": "code",
   "execution_count": 9,
   "id": "9ce288d6",
   "metadata": {},
   "outputs": [
    {
     "data": {
      "text/html": [
       "<div>\n",
       "<style scoped>\n",
       "    .dataframe tbody tr th:only-of-type {\n",
       "        vertical-align: middle;\n",
       "    }\n",
       "\n",
       "    .dataframe tbody tr th {\n",
       "        vertical-align: top;\n",
       "    }\n",
       "\n",
       "    .dataframe thead th {\n",
       "        text-align: right;\n",
       "    }\n",
       "</style>\n",
       "<table border=\"1\" class=\"dataframe\">\n",
       "  <thead>\n",
       "    <tr style=\"text-align: right;\">\n",
       "      <th></th>\n",
       "      <th>Year</th>\n",
       "      <th>x1</th>\n",
       "      <th>x2</th>\n",
       "      <th>x3</th>\n",
       "      <th>x5</th>\n",
       "      <th>x6</th>\n",
       "      <th>x7</th>\n",
       "      <th>x8</th>\n",
       "      <th>x9</th>\n",
       "      <th>x10</th>\n",
       "    </tr>\n",
       "  </thead>\n",
       "  <tbody>\n",
       "    <tr>\n",
       "      <th>count</th>\n",
       "      <td>49.00000</td>\n",
       "      <td>49.000000</td>\n",
       "      <td>49.000000</td>\n",
       "      <td>49.000000</td>\n",
       "      <td>49.000000</td>\n",
       "      <td>49.000000</td>\n",
       "      <td>49.000000</td>\n",
       "      <td>49.000000</td>\n",
       "      <td>49.000000</td>\n",
       "      <td>49.000000</td>\n",
       "    </tr>\n",
       "    <tr>\n",
       "      <th>mean</th>\n",
       "      <td>1993.00000</td>\n",
       "      <td>7.194243</td>\n",
       "      <td>32.405530</td>\n",
       "      <td>1.045240</td>\n",
       "      <td>20.113930</td>\n",
       "      <td>5.758657</td>\n",
       "      <td>5.378513</td>\n",
       "      <td>8.988990</td>\n",
       "      <td>5.812430</td>\n",
       "      <td>3.678543</td>\n",
       "    </tr>\n",
       "    <tr>\n",
       "      <th>std</th>\n",
       "      <td>14.28869</td>\n",
       "      <td>4.208579</td>\n",
       "      <td>4.098204</td>\n",
       "      <td>0.516525</td>\n",
       "      <td>14.757234</td>\n",
       "      <td>3.615251</td>\n",
       "      <td>2.610390</td>\n",
       "      <td>12.498723</td>\n",
       "      <td>4.209459</td>\n",
       "      <td>0.958478</td>\n",
       "    </tr>\n",
       "    <tr>\n",
       "      <th>min</th>\n",
       "      <td>1969.00000</td>\n",
       "      <td>-5.471219</td>\n",
       "      <td>21.404761</td>\n",
       "      <td>0.211998</td>\n",
       "      <td>2.980690</td>\n",
       "      <td>-9.288825</td>\n",
       "      <td>0.560957</td>\n",
       "      <td>-29.403255</td>\n",
       "      <td>-11.894309</td>\n",
       "      <td>2.048000</td>\n",
       "    </tr>\n",
       "    <tr>\n",
       "      <th>25%</th>\n",
       "      <td>1981.00000</td>\n",
       "      <td>3.923677</td>\n",
       "      <td>29.943577</td>\n",
       "      <td>0.577957</td>\n",
       "      <td>9.885949</td>\n",
       "      <td>2.981150</td>\n",
       "      <td>3.387772</td>\n",
       "      <td>2.417118</td>\n",
       "      <td>2.900586</td>\n",
       "      <td>3.167300</td>\n",
       "    </tr>\n",
       "    <tr>\n",
       "      <th>50%</th>\n",
       "      <td>1993.00000</td>\n",
       "      <td>7.432434</td>\n",
       "      <td>32.248290</td>\n",
       "      <td>0.985130</td>\n",
       "      <td>17.174170</td>\n",
       "      <td>6.523265</td>\n",
       "      <td>5.031057</td>\n",
       "      <td>7.566111</td>\n",
       "      <td>6.853033</td>\n",
       "      <td>3.700000</td>\n",
       "    </tr>\n",
       "    <tr>\n",
       "      <th>75%</th>\n",
       "      <td>2005.00000</td>\n",
       "      <td>10.353951</td>\n",
       "      <td>34.455668</td>\n",
       "      <td>1.519197</td>\n",
       "      <td>26.894645</td>\n",
       "      <td>8.168925</td>\n",
       "      <td>7.158110</td>\n",
       "      <td>15.948873</td>\n",
       "      <td>8.927295</td>\n",
       "      <td>4.068000</td>\n",
       "    </tr>\n",
       "    <tr>\n",
       "      <th>max</th>\n",
       "      <td>2017.00000</td>\n",
       "      <td>14.827554</td>\n",
       "      <td>41.374062</td>\n",
       "      <td>2.263434</td>\n",
       "      <td>85.203081</td>\n",
       "      <td>10.834413</td>\n",
       "      <td>11.742807</td>\n",
       "      <td>32.098276</td>\n",
       "      <td>11.711835</td>\n",
       "      <td>6.963000</td>\n",
       "    </tr>\n",
       "  </tbody>\n",
       "</table>\n",
       "</div>"
      ],
      "text/plain": [
       "             Year         x1         x2         x3         x5         x6  \\\n",
       "count    49.00000  49.000000  49.000000  49.000000  49.000000  49.000000   \n",
       "mean   1993.00000   7.194243  32.405530   1.045240  20.113930   5.758657   \n",
       "std      14.28869   4.208579   4.098204   0.516525  14.757234   3.615251   \n",
       "min    1969.00000  -5.471219  21.404761   0.211998   2.980690  -9.288825   \n",
       "25%    1981.00000   3.923677  29.943577   0.577957   9.885949   2.981150   \n",
       "50%    1993.00000   7.432434  32.248290   0.985130  17.174170   6.523265   \n",
       "75%    2005.00000  10.353951  34.455668   1.519197  26.894645   8.168925   \n",
       "max    2017.00000  14.827554  41.374062   2.263434  85.203081  10.834413   \n",
       "\n",
       "              x7         x8         x9        x10  \n",
       "count  49.000000  49.000000  49.000000  49.000000  \n",
       "mean    5.378513   8.988990   5.812430   3.678543  \n",
       "std     2.610390  12.498723   4.209459   0.958478  \n",
       "min     0.560957 -29.403255 -11.894309   2.048000  \n",
       "25%     3.387772   2.417118   2.900586   3.167300  \n",
       "50%     5.031057   7.566111   6.853033   3.700000  \n",
       "75%     7.158110  15.948873   8.927295   4.068000  \n",
       "max    11.742807  32.098276  11.711835   6.963000  "
      ]
     },
     "execution_count": 9,
     "metadata": {},
     "output_type": "execute_result"
    }
   ],
   "source": [
    "df.describe()"
   ]
  },
  {
   "cell_type": "code",
   "execution_count": 10,
   "id": "56515f96",
   "metadata": {},
   "outputs": [
    {
     "data": {
      "text/plain": [
       "<seaborn.axisgrid.PairGrid at 0x21549393dc0>"
      ]
     },
     "execution_count": 10,
     "metadata": {},
     "output_type": "execute_result"
    },
    {
     "data": {
      "image/png": "[encoded data removed]",
      "text/plain": [
       "<Figure size 1080x1080 with 42 Axes>"
      ]
     },
     "metadata": {
      "needs_background": "light"
     },
     "output_type": "display_data"
    }
   ],
   "source": [
    "sns.pairplot(df[['x1', 'x2', 'x3', 'x4', 'x5','x6','x7']], plot_kws={'color':'#0EDCA9'})"
   ]
  },
  {
   "cell_type": "code",
   "execution_count": 11,
   "id": "0fbaeec1",
   "metadata": {},
   "outputs": [
    {
     "data": {
      "image/png": "[encoded data removed]",
      "text/plain": [
       "<Figure size 432x288 with 6 Axes>"
      ]
     },
     "metadata": {
      "needs_background": "light"
     },
     "output_type": "display_data"
    }
   ],
   "source": [
    "viz=df[['x1','x2','x3','x4','x5','x6','x7']] \n",
    "viz.hist()\n",
    "plt.show()"
   ]
  },
  {
   "cell_type": "code",
   "execution_count": 12,
   "id": "05f88d58",
   "metadata": {},
   "outputs": [
    {
     "data": {
      "text/plain": [
       "<AxesSubplot:>"
      ]
     },
     "execution_count": 12,
     "metadata": {},
     "output_type": "execute_result"
    },
    {
     "data": {
      "image/png": "[encoded data removed]",
      "text/plain": [
       "<Figure size 432x288 with 2 Axes>"
      ]
     },
     "metadata": {
      "needs_background": "light"
     },
     "output_type": "display_data"
    }
   ],
   "source": [
    "sns.heatmap(df.corr(method ='pearson'),annot=True,annot_kws={'size': 8})"
   ]
  },
  {
   "cell_type": "code",
   "execution_count": 13,
   "id": "f567be2a",
   "metadata": {},
   "outputs": [
    {
     "name": "stderr",
     "output_type": "stream",
     "text": [
      "C:\\anaconda\\lib\\site-packages\\seaborn\\_decorators.py:36: FutureWarning: Pass the following variable as a keyword arg: x. From version 0.12, the only valid positional argument will be `data`, and passing other arguments without an explicit keyword will result in an error or misinterpretation.\n",
      "  warnings.warn(\n"
     ]
    },
    {
     "data": {
      "text/plain": [
       "<AxesSubplot:xlabel='x1'>"
      ]
     },
     "execution_count": 13,
     "metadata": {},
     "output_type": "execute_result"
    },
    {
     "data": {
      "image/png": "[encoded data removed]",
      "text/plain": [
       "<Figure size 720x288 with 1 Axes>"
      ]
     },
     "metadata": {
      "needs_background": "light"
     },
     "output_type": "display_data"
    }
   ],
   "source": [
    "plt.figure(figsize=(10,4)) \n",
    "sns.boxplot(df['x1'])"
   ]
  },
  {
   "cell_type": "code",
   "execution_count": 14,
   "id": "bdcf87a0",
   "metadata": {},
   "outputs": [],
   "source": [
    "dataset=pd.read_excel('korea_data.xlsx')"
   ]
  },
  {
   "cell_type": "code",
   "execution_count": 15,
   "id": "574c9d79",
   "metadata": {},
   "outputs": [
    {
     "data": {
      "text/plain": [
       "49"
      ]
     },
     "execution_count": 15,
     "metadata": {},
     "output_type": "execute_result"
    }
   ],
   "source": [
    "len(dataset)"
   ]
  },
  {
   "cell_type": "code",
   "execution_count": 16,
   "id": "98542ddd",
   "metadata": {},
   "outputs": [
    {
     "data": {
      "text/plain": [
       "49"
      ]
     },
     "execution_count": 16,
     "metadata": {},
     "output_type": "execute_result"
    }
   ],
   "source": [
    "len(df)"
   ]
  },
  {
   "cell_type": "code",
   "execution_count": 17,
   "id": "152e0c94",
   "metadata": {},
   "outputs": [],
   "source": [
    "x=df.drop(['x1'],axis=1).values \n",
    "y=df['x1'].values"
   ]
  },
  {
   "cell_type": "code",
   "execution_count": 19,
   "id": "cbddc8c1",
   "metadata": {},
   "outputs": [
    {
     "name": "stdout",
     "output_type": "stream",
     "text": [
      "[[1969 29.9435768990804 2.26343403916519 30.663 60.9847325104761\n",
      "  10.6932488101719 10.640799332022 29.9081180354222 10.7003251499339\n",
      "  4.8600001335144]\n",
      " [1970 26.338199513382 2.18417394689467 31.2 27.4228641907322\n",
      "  10.1615388785531 7.27957317104054 0.0586674544734933 10.5573002806013\n",
      "  4.51000022888184]\n",
      " [1971 25.5585005679667 1.97132365752048 31.2 20.844481176945\n",
      "  9.33043406387293 8.61054718851801 15.1728700254169 9.42696935163427\n",
      "  4.57000017166138]\n",
      " [1972 21.4047607868914 1.87599936966995 28.4 33.8150278361538\n",
      "  5.7884575123869 8.13482403672276 -13.0567009685962 5.47135525869126\n",
      "  4.59000015258789]\n",
      " [1973 25.8728575315136 1.7682927120788 28.3 36.4156287496918\n",
      "  8.08995237194739 2.28772883318192 32.0982760658976 8.92729451960032\n",
      "  4.03999996185303]\n",
      " [1974 32.5334077843627 1.712705419969 26.6 24.0366520354079\n",
      "  7.32385340697566 7.288575886313 31.4930826086041 7.3283365376645\n",
      "  4.15000009536743]\n",
      " [1975 28.9592674034517 1.68200005474822 24.8 28.2316303684103\n",
      "  5.7144454774896 6.96046505664856 -1.49372044887683 5.53952747901612\n",
      "  4.17999982833862]\n",
      " [1976 27.5559903421863 1.59655859407233 22.2 33.4846556042679\n",
      "  7.18271372065252 0.560956983024028 23.0060801144492 8.25493049678536\n",
      "  3.8076000213623]\n",
      " [1977 30.6307133253781 1.55903938603208 22.7 39.7057634406556\n",
      "  5.70116080853434 7.46801344508053 31.4864498734528 5.40164528738015\n",
      "  3.80570006370544]\n",
      " [1978 34.5324919774129 1.5191967189167 20.3 34.9710264336979\n",
      "  7.92407411217482 5.5823150636313 30.8730515719351 8.34037614292646\n",
      "  3.16729998588562]\n",
      " [1979 38.1325867736018 1.51687486775835 23 24.584449015782\n",
      "  8.25285608387476 6.17466625048021 18.0997603723445 8.60403653466801\n",
      "  3.81200003623962]\n",
      " [1980 34.4556677890011 1.55846267819582 22.6 26.8946449831137\n",
      "  1.60424112993844 11.7428065027688 -16.1086570211991 -0.0929274067275259\n",
      "  5.19600009918213]\n",
      " [1981 32.445665396156 1.56020399239876 22.4 25.024951234398\n",
      "  5.44742827734981 6.59300072350479 2.58220557255622 5.22540677056291\n",
      "  4.50699996948242]\n",
      " [1982 32.2086720390583 1.54546853308404 21.6 27.0114139385714\n",
      "  6.52326463522567 2.14092462502373 10.2246857743092 7.38352075773705\n",
      "  4.36299991607666]\n",
      " [1983 32.7824948303342 1.47421882108841 19.3 15.2426623526693\n",
      "  8.16582936940094 3.62864531659157 14.9572019649046 9.05276306966725\n",
      "  4.06799983978271]\n",
      " [1984 32.2482904248378 1.23401831140412 16.7 7.70529245409281\n",
      "  7.09226162062748 4.82401266373391 9.35792838569623 7.53364983603559\n",
      "  3.80100011825562]\n",
      " [1985 32.5659448232225 0.984565597108821 16.1 15.6229888146726\n",
      "  6.53906057873597 3.35990656944298 7.56611058696495 7.14690815102689\n",
      "  3.98300004005432]\n",
      " [1986 32.4221672777548 0.99472386803381 15.4 18.4410262370503\n",
      "  8.44897166203727 5.24294267012402 15.1984313586316 9.07292353614939\n",
      "  3.80999994277954]\n",
      " [1987 33.0897492531502 0.985133112424576 15 19.0537837683663\n",
      "  8.20937350066471 7.15811041458561 15.9488729448449 8.41788839640869\n",
      "  3.08800005912781]\n",
      " [1988 34.7041855054437 0.979189224150187 15.1 21.4985768212406\n",
      "  9.10264758322847 8.52541200347183 17.402175687114 9.21963921259497\n",
      "  2.51900005340576]\n",
      " [1989 37.096221822674 0.989093268458301 15.1 19.8164534355775\n",
      "  10.8344134857102 11.3249658871291 16.9945126845169 10.7317585825804\n",
      "  2.56900000572205]\n",
      " [1990 39.6159975884151 0.985130494218767 15.2 17.1741698553492\n",
      "  10.0668882493836 11.0633857687687 15.5965280253351 9.84811976375919\n",
      "  2.4539999961853]\n",
      " [1991 41.3740616517608 0.989785981821526 16.4 21.8874213149947\n",
      "  8.16892475419149 5.03105691990844 17.9120408885319 8.88106334469423\n",
      "  2.40700006484985]\n",
      " [1992 38.4851980148382 1.03916135557339 16.7 14.9415254257527\n",
      "  6.77723197538025 6.43662267081757 0.10613591276379 6.85303328575793\n",
      "  2.51300001144409]\n",
      " [1993 37.4795411542482 1.01582143742509 16 16.5807350400535\n",
      "  6.43738932409161 4.87105211006751 6.03781399427656 6.79266358558151\n",
      "  2.87800002098084]\n",
      " [1994 38.5391289049545 1.00615724501748 16 18.6773909254307\n",
      "  7.95715464958555 3.35805879285789 15.1258305340486 8.97346499542435\n",
      "  2.4760000705719]\n",
      " [1995 39.0032944992284 1.00620085457685 15.7 15.5931841953706\n",
      "  9.27991080573408 3.38777228409977 10.7226563553088 10.5110824322462\n",
      "  2.06299996376038]\n",
      " [1996 39.6809624126659 0.952779421852704 15 15.8277442341608\n",
      "  7.54560449708212 7.27954877648082 10.0799260411606 7.59953593840636\n",
      "  2.04800009727478]\n",
      " [1997 37.4246790451008 0.937713808920155 14.4 14.1437236837087\n",
      "  3.79472859941879 2.14525414795264 -1.93981255567964 4.13416911307041\n",
      "  2.60800004005432]\n",
      " [1998 27.7618952830707 0.72186501759031 13.6 27.0261851359618\n",
      "  -9.28882487999441 3.65151610239309 -29.4032545587107 -11.8943092032809\n",
      "  6.96299982070923]\n",
      " [1999 30.9162955854393 0.710794593061376 13 27.3766401341697\n",
      "  10.3998165146462 4.87490305262884 24.3542850794815 11.7118349093341\n",
      "  6.34200000762939]\n",
      " [2000 32.9417148967403 0.836180864297766 13.3 25.4257746478018\n",
      "  7.57016817574137 0.881293431216122 14.5278536502453 9.05133582749005\n",
      "  4.40000009536743]\n",
      " [2001 31.5595869536502 0.767241774760276 11.6 85.2030807974552\n",
      "  5.77423591139221 6.22062507834826 1.20495899715603 5.68009637909697 4.0]\n",
      " [2002 30.9395805884173 0.577957276814842 10.2 13.9998911970542\n",
      "  8.28473787828517 5.60703785231593 7.2978223029787 8.88071178301961\n",
      "  3.29999995231628]\n",
      " [2003 32.0149095719368 0.518321452985646 10.2 2.98069024193587\n",
      "  0.246284083503838 3.76046947969024 5.21002051957495 -0.521558964572165\n",
      "  3.59999990463257]\n",
      " [2004 32.1170741151219 0.396331436697806 9.8 6.30831998688382\n",
      "  1.06009903113693 4.52862908040585 3.84063126381156 0.253671232199764\n",
      "  3.70000004768372]\n",
      " [2005 32.1630646230425 0.211997784117548 8.9 6.98905937684345\n",
      "  4.44117752660749 4.52968722468276 2.4171177694696 4.41913004437184\n",
      "  3.70000004768372]\n",
      " [2006 32.7006879321314 0.525199940498775 9.2 12.5129608596578\n",
      "  5.15213592194826 7.37446903037286 4.99934524504452 4.58669686834459 3.5]\n",
      " [2007 32.5795311571119 0.505234032920336 10 10.8199645314506\n",
      "  5.29800296984071 6.06181957029904 4.53168192386208 5.09803338427075\n",
      "  3.20000004768372]\n",
      " [2008 33.0185038880311 0.759316681850927 9.4 11.9562036963622\n",
      "  2.15204323531258 5.08196166090904 -0.967181663533822 1.3728829443218\n",
      "  3.20000004768372]\n",
      " [2009 28.4656576954675 0.514682827535803 9 9.88594854042114\n",
      "  1.27156811708957 5.24062166690243 -10.1432209183449 0.162872119032116\n",
      "  3.59999990463257]\n",
      " [2010 32.0228750628306 0.49822508440111 9.4 5.97887647571808\n",
      "  4.25894005558467 3.84809957158268 17.8419509993305 4.37959315557626\n",
      "  3.70000004768372]\n",
      " [2011 32.9588326088539 0.768971758582589 9.4 5.4758619616047\n",
      "  2.74670867257396 2.21163954704451 3.47855810142454 2.90058608851371\n",
      "  3.40000009536743]\n",
      " [2012 31.0012285685641 0.525713660600414 9.6 4.8064654842376\n",
      "  2.2460664010334 3.37431114426192 -2.29983254734813 1.92314766100547\n",
      "  3.20000004768372]\n",
      " [2013 29.1022168457781 0.455218622164662 8.6 4.63889133228525\n",
      "  2.19113000645102 3.26137688107156 -0.118665198385216 1.88209850771482\n",
      "  3.09999990463257]\n",
      " [2014 29.2769100545307 0.628149861433639 8.6 8.14449306578048\n",
      "  2.04280026327928 3.04619903355336 5.26249542348134 1.74711673926416 3.5]\n",
      " [2015 28.918111921952 0.527288497407793 8.6 8.19074818640474\n",
      "  2.38518826325611 2.98849949385338 7.29738985872521 2.20397378928577\n",
      "  3.59999990463257]\n",
      " [2016 29.2523873391538 0.451318043969976 7.9 7.1231560157317\n",
      "  2.98115017329485 4.47718534338011 5.61021375014796 2.52576457679351\n",
      "  3.70000004768372]\n",
      " [2017 31.0756510711261 0.429345229786812 '..' 5.10474089994852\n",
      "  2.80272235854386 3.4248368727603 10.107800612204 2.60864122659808\n",
      "  3.70000004768372]]\n"
     ]
    }
   ],
   "source": [
    "print(x)"
   ]
  },
  {
   "cell_type": "code",
   "execution_count": 20,
   "id": "26c47eff",
   "metadata": {},
   "outputs": [
    {
     "name": "stdout",
     "output_type": "stream",
     "text": [
      "[14.54123499  9.99740657 10.45469327  7.15071478 14.82755434  9.46087346\n",
      "  7.86351166 13.11515884 12.27766122 10.77449137  8.62563239 -1.70127653\n",
      "  7.18051084  8.26502126 13.24206343 10.44291111  7.749646   11.22408642\n",
      " 12.46726605 11.90471861  7.02971002  9.81122968 10.35395136  6.17550569\n",
      "  6.84674392  9.20614152  9.57060413  7.59450909  5.92218546 -5.47121926\n",
      " 11.30862149  8.92442603  4.52530676  7.43243361  2.9332179   4.89984045\n",
      "  3.92367739  5.17615382  5.46339639  2.82922317  0.70750995  6.49679359\n",
      "  3.68168857  2.29239785  2.89620494  3.34144776  2.79023617  2.92930479\n",
      "  3.06276846]\n"
     ]
    }
   ],
   "source": [
    "print(y)"
   ]
  },
  {
   "cell_type": "code",
   "execution_count": null,
   "id": "10c62588",
   "metadata": {},
   "outputs": [],
   "source": [
    "#модель 1"
   ]
  },
  {
   "cell_type": "code",
   "execution_count": 21,
   "id": "f81abd2a",
   "metadata": {},
   "outputs": [],
   "source": [
    "from sklearn import linear_model"
   ]
  },
  {
   "cell_type": "code",
   "execution_count": 22,
   "id": "635e18e9",
   "metadata": {},
   "outputs": [
    {
     "data": {
      "text/plain": [
       "LinearRegression()"
      ]
     },
     "execution_count": 22,
     "metadata": {},
     "output_type": "execute_result"
    }
   ],
   "source": [
    "reg = linear_model.LinearRegression()\n",
    "reg.fit(df[['x3','x5','x8','x9']],df['x1'])"
   ]
  },
  {
   "cell_type": "code",
   "execution_count": 23,
   "id": "270d24fc",
   "metadata": {},
   "outputs": [
    {
     "data": {
      "text/plain": [
       "array([14.63431979])"
      ]
     },
     "execution_count": 23,
     "metadata": {},
     "output_type": "execute_result"
    }
   ],
   "source": [
    "reg.predict([[2.263434,60.984733,29.908118,10.700325]])"
   ]
  },
  {
   "cell_type": "code",
   "execution_count": 24,
   "id": "dcea6444",
   "metadata": {},
   "outputs": [
    {
     "data": {
      "text/plain": [
       "array([ 1.99028435, -0.00398061,  0.13595383,  0.47754319])"
      ]
     },
     "execution_count": 24,
     "metadata": {},
     "output_type": "execute_result"
    }
   ],
   "source": [
    "reg.coef_ "
   ]
  },
  {
   "cell_type": "code",
   "execution_count": 25,
   "id": "32aec547",
   "metadata": {},
   "outputs": [
    {
     "data": {
      "text/plain": [
       "1.1962088023230972"
      ]
     },
     "execution_count": 25,
     "metadata": {},
     "output_type": "execute_result"
    }
   ],
   "source": [
    "reg.intercept_"
   ]
  },
  {
   "cell_type": "code",
   "execution_count": 26,
   "id": "4467bb2f",
   "metadata": {},
   "outputs": [],
   "source": [
    "# модель 2"
   ]
  },
  {
   "cell_type": "code",
   "execution_count": 27,
   "id": "4f4f1834",
   "metadata": {},
   "outputs": [],
   "source": [
    "import statsmodels.formula.api as smf"
   ]
  },
  {
   "cell_type": "code",
   "execution_count": 28,
   "id": "a9817925",
   "metadata": {},
   "outputs": [
    {
     "data": {
      "text/html": [
       "<table class=\"simpletable\">\n",
       "<caption>OLS Regression Results</caption>\n",
       "<tr>\n",
       "  <th>Dep. Variable:</th>           <td>x1</td>        <th>  R-squared:         </th> <td>   0.910</td>\n",
       "</tr>\n",
       "<tr>\n",
       "  <th>Model:</th>                   <td>OLS</td>       <th>  Adj. R-squared:    </th> <td>   0.869</td>\n",
       "</tr>\n",
       "<tr>\n",
       "  <th>Method:</th>             <td>Least Squares</td>  <th>  F-statistic:       </th> <td>   22.19</td>\n",
       "</tr>\n",
       "<tr>\n",
       "  <th>Date:</th>             <td>Tue, 14 Jun 2022</td> <th>  Prob (F-statistic):</th> <td>5.24e-13</td>\n",
       "</tr>\n",
       "<tr>\n",
       "  <th>Time:</th>                 <td>11:12:28</td>     <th>  Log-Likelihood:    </th> <td> -80.506</td>\n",
       "</tr>\n",
       "<tr>\n",
       "  <th>No. Observations:</th>      <td>    49</td>      <th>  AIC:               </th> <td>   193.0</td>\n",
       "</tr>\n",
       "<tr>\n",
       "  <th>Df Residuals:</th>          <td>    33</td>      <th>  BIC:               </th> <td>   223.3</td>\n",
       "</tr>\n",
       "<tr>\n",
       "  <th>Df Model:</th>              <td>    15</td>      <th>                     </th>     <td> </td>   \n",
       "</tr>\n",
       "<tr>\n",
       "  <th>Covariance Type:</th>      <td>nonrobust</td>    <th>                     </th>     <td> </td>   \n",
       "</tr>\n",
       "</table>\n",
       "<table class=\"simpletable\">\n",
       "<tr>\n",
       "       <td></td>          <th>coef</th>     <th>std err</th>      <th>t</th>      <th>P>|t|</th>  <th>[0.025</th>    <th>0.975]</th>  \n",
       "</tr>\n",
       "<tr>\n",
       "  <th>Intercept</th>   <td>    7.2932</td> <td>    3.592</td> <td>    2.030</td> <td> 0.050</td> <td>   -0.015</td> <td>   14.601</td>\n",
       "</tr>\n",
       "<tr>\n",
       "  <th>x3</th>          <td>  -11.0071</td> <td>    6.564</td> <td>   -1.677</td> <td> 0.103</td> <td>  -24.362</td> <td>    2.347</td>\n",
       "</tr>\n",
       "<tr>\n",
       "  <th>x5</th>          <td>   -0.1131</td> <td>    0.217</td> <td>   -0.521</td> <td> 0.606</td> <td>   -0.555</td> <td>    0.328</td>\n",
       "</tr>\n",
       "<tr>\n",
       "  <th>x3:x5</th>       <td>    0.4293</td> <td>    0.258</td> <td>    1.667</td> <td> 0.105</td> <td>   -0.095</td> <td>    0.953</td>\n",
       "</tr>\n",
       "<tr>\n",
       "  <th>x8</th>          <td>   -0.4287</td> <td>    0.335</td> <td>   -1.279</td> <td> 0.210</td> <td>   -1.111</td> <td>    0.253</td>\n",
       "</tr>\n",
       "<tr>\n",
       "  <th>x3:x8</th>       <td>    0.9488</td> <td>    0.513</td> <td>    1.849</td> <td> 0.073</td> <td>   -0.095</td> <td>    1.993</td>\n",
       "</tr>\n",
       "<tr>\n",
       "  <th>x5:x8</th>       <td>    0.0269</td> <td>    0.022</td> <td>    1.241</td> <td> 0.223</td> <td>   -0.017</td> <td>    0.071</td>\n",
       "</tr>\n",
       "<tr>\n",
       "  <th>x3:x5:x8</th>    <td>   -0.0344</td> <td>    0.022</td> <td>   -1.559</td> <td> 0.128</td> <td>   -0.079</td> <td>    0.010</td>\n",
       "</tr>\n",
       "<tr>\n",
       "  <th>x9</th>          <td>   -0.7999</td> <td>    0.730</td> <td>   -1.096</td> <td> 0.281</td> <td>   -2.285</td> <td>    0.685</td>\n",
       "</tr>\n",
       "<tr>\n",
       "  <th>x3:x9</th>       <td>    2.5505</td> <td>    1.168</td> <td>    2.184</td> <td> 0.036</td> <td>    0.175</td> <td>    4.926</td>\n",
       "</tr>\n",
       "<tr>\n",
       "  <th>x5:x9</th>       <td>    0.0207</td> <td>    0.038</td> <td>    0.541</td> <td> 0.592</td> <td>   -0.057</td> <td>    0.098</td>\n",
       "</tr>\n",
       "<tr>\n",
       "  <th>x3:x5:x9</th>    <td>   -0.0808</td> <td>    0.044</td> <td>   -1.840</td> <td> 0.075</td> <td>   -0.170</td> <td>    0.009</td>\n",
       "</tr>\n",
       "<tr>\n",
       "  <th>x8:x9</th>       <td>    0.0805</td> <td>    0.051</td> <td>    1.577</td> <td> 0.124</td> <td>   -0.023</td> <td>    0.184</td>\n",
       "</tr>\n",
       "<tr>\n",
       "  <th>x3:x8:x9</th>    <td>   -0.1527</td> <td>    0.067</td> <td>   -2.276</td> <td> 0.029</td> <td>   -0.289</td> <td>   -0.016</td>\n",
       "</tr>\n",
       "<tr>\n",
       "  <th>x5:x8:x9</th>    <td>   -0.0023</td> <td>    0.002</td> <td>   -1.176</td> <td> 0.248</td> <td>   -0.006</td> <td>    0.002</td>\n",
       "</tr>\n",
       "<tr>\n",
       "  <th>x3:x5:x8:x9</th> <td>    0.0046</td> <td>    0.002</td> <td>    1.958</td> <td> 0.059</td> <td>   -0.000</td> <td>    0.009</td>\n",
       "</tr>\n",
       "</table>\n",
       "<table class=\"simpletable\">\n",
       "<tr>\n",
       "  <th>Omnibus:</th>       <td> 2.082</td> <th>  Durbin-Watson:     </th> <td>   1.690</td>\n",
       "</tr>\n",
       "<tr>\n",
       "  <th>Prob(Omnibus):</th> <td> 0.353</td> <th>  Jarque-Bera (JB):  </th> <td>   1.486</td>\n",
       "</tr>\n",
       "<tr>\n",
       "  <th>Skew:</th>          <td> 0.423</td> <th>  Prob(JB):          </th> <td>   0.476</td>\n",
       "</tr>\n",
       "<tr>\n",
       "  <th>Kurtosis:</th>      <td> 3.111</td> <th>  Cond. No.          </th> <td>3.11e+05</td>\n",
       "</tr>\n",
       "</table><br/><br/>Notes:<br/>[1] Standard Errors assume that the covariance matrix of the errors is correctly specified.<br/>[2] The condition number is large, 3.11e+05. This might indicate that there are<br/>strong multicollinearity or other numerical problems."
      ],
      "text/plain": [
       "<class 'statsmodels.iolib.summary.Summary'>\n",
       "\"\"\"\n",
       "                            OLS Regression Results                            \n",
       "==============================================================================\n",
       "Dep. Variable:                     x1   R-squared:                       0.910\n",
       "Model:                            OLS   Adj. R-squared:                  0.869\n",
       "Method:                 Least Squares   F-statistic:                     22.19\n",
       "Date:                Tue, 14 Jun 2022   Prob (F-statistic):           5.24e-13\n",
       "Time:                        11:12:28   Log-Likelihood:                -80.506\n",
       "No. Observations:                  49   AIC:                             193.0\n",
       "Df Residuals:                      33   BIC:                             223.3\n",
       "Df Model:                          15                                         \n",
       "Covariance Type:            nonrobust                                         \n",
       "===============================================================================\n",
       "                  coef    std err          t      P>|t|      [0.025      0.975]\n",
       "-------------------------------------------------------------------------------\n",
       "Intercept       7.2932      3.592      2.030      0.050      -0.015      14.601\n",
       "x3            -11.0071      6.564     -1.677      0.103     -24.362       2.347\n",
       "x5             -0.1131      0.217     -0.521      0.606      -0.555       0.328\n",
       "x3:x5           0.4293      0.258      1.667      0.105      -0.095       0.953\n",
       "x8             -0.4287      0.335     -1.279      0.210      -1.111       0.253\n",
       "x3:x8           0.9488      0.513      1.849      0.073      -0.095       1.993\n",
       "x5:x8           0.0269      0.022      1.241      0.223      -0.017       0.071\n",
       "x3:x5:x8       -0.0344      0.022     -1.559      0.128      -0.079       0.010\n",
       "x9             -0.7999      0.730     -1.096      0.281      -2.285       0.685\n",
       "x3:x9           2.5505      1.168      2.184      0.036       0.175       4.926\n",
       "x5:x9           0.0207      0.038      0.541      0.592      -0.057       0.098\n",
       "x3:x5:x9       -0.0808      0.044     -1.840      0.075      -0.170       0.009\n",
       "x8:x9           0.0805      0.051      1.577      0.124      -0.023       0.184\n",
       "x3:x8:x9       -0.1527      0.067     -2.276      0.029      -0.289      -0.016\n",
       "x5:x8:x9       -0.0023      0.002     -1.176      0.248      -0.006       0.002\n",
       "x3:x5:x8:x9     0.0046      0.002      1.958      0.059      -0.000       0.009\n",
       "==============================================================================\n",
       "Omnibus:                        2.082   Durbin-Watson:                   1.690\n",
       "Prob(Omnibus):                  0.353   Jarque-Bera (JB):                1.486\n",
       "Skew:                           0.423   Prob(JB):                        0.476\n",
       "Kurtosis:                       3.111   Cond. No.                     3.11e+05\n",
       "==============================================================================\n",
       "\n",
       "Notes:\n",
       "[1] Standard Errors assume that the covariance matrix of the errors is correctly specified.\n",
       "[2] The condition number is large, 3.11e+05. This might indicate that there are\n",
       "strong multicollinearity or other numerical problems.\n",
       "\"\"\""
      ]
     },
     "execution_count": 28,
     "metadata": {},
     "output_type": "execute_result"
    }
   ],
   "source": [
    "model = smf.ols('x1 ~ x3 * x5 * x8 * x9', data=df)\n",
    "model = model.fit()\n",
    "model.summary()"
   ]
  },
  {
   "cell_type": "code",
   "execution_count": 29,
   "id": "b4e15d2c",
   "metadata": {},
   "outputs": [],
   "source": [
    "#модель3"
   ]
  },
  {
   "cell_type": "code",
   "execution_count": 30,
   "id": "38939008",
   "metadata": {},
   "outputs": [],
   "source": [
    "msk=np.random.rand(len(df))<0.8 \n",
    "train=df[msk]\n",
    "test=df[~msk]"
   ]
  },
  {
   "cell_type": "code",
   "execution_count": 31,
   "id": "13beefed",
   "metadata": {},
   "outputs": [
    {
     "name": "stdout",
     "output_type": "stream",
     "text": [
      "Coefficients: [[0.81936767]]\n",
      "Intercept: [2.22476233]\n"
     ]
    }
   ],
   "source": [
    "from sklearn import linear_model\n",
    "regr=linear_model.LinearRegression()\n",
    "train_x=np.asanyarray(train[['x9']])\n",
    "train_y=np.asanyarray(train[['x1']])\n",
    "regr.fit(train_x,train_y) \n",
    "\n",
    "print('Coefficients:',regr.coef_) \n",
    "print('Intercept:',regr.intercept_)"
   ]
  },
  {
   "cell_type": "code",
   "execution_count": 32,
   "id": "3f4c4bbb",
   "metadata": {},
   "outputs": [
    {
     "data": {
      "text/plain": [
       "Text(0, 0.5, 'x1')"
      ]
     },
     "execution_count": 32,
     "metadata": {},
     "output_type": "execute_result"
    },
    {
     "data": {
      "image/png": "[encoded data removed]",
      "text/plain": [
       "<Figure size 432x288 with 1 Axes>"
      ]
     },
     "metadata": {
      "needs_background": "light"
     },
     "output_type": "display_data"
    }
   ],
   "source": [
    "plt.scatter(train.x3, train.x1, color='blue') \n",
    "plt.plot(train_x, regr.coef_[0][0]*train_x+regr.intercept_[0],'-r') \n",
    "plt.xlabel('x9')\n",
    "plt.ylabel('x1')"
   ]
  },
  {
   "cell_type": "code",
   "execution_count": 33,
   "id": "48a321f2",
   "metadata": {},
   "outputs": [
    {
     "name": "stdout",
     "output_type": "stream",
     "text": [
      "Mean absolute error: 1.88\n",
      "Residual sum of squares (MSE): 5.79\n",
      "R2-score: -0.24\n"
     ]
    }
   ],
   "source": [
    "from sklearn.metrics import r2_score\n",
    "\n",
    "test_x=np.asanyarray(test[['x9']]) \n",
    "test_y=np.asanyarray(test[['x1']])\n",
    "test_y_=regr.predict(test_x) \n",
    "\n",
    "print('Mean absolute error: %.2f' %np.mean(np.absolute(test_y_-test_y)))\n",
    "print('Residual sum of squares (MSE): %.2f' %np.mean(np.absolute(test_y_-test_y)**2))\n",
    "print('R2-score: %.2f' % r2_score(test_y_,test_y))"
   ]
  },
  {
   "cell_type": "code",
   "execution_count": null,
   "id": "286d8fd0",
   "metadata": {},
   "outputs": [],
   "source": []
  }
 ],
 "metadata": {
  "kernelspec": {
   "display_name": "Python 3",
   "language": "python",
   "name": "python3"
  },
  "language_info": {
   "codemirror_mode": {
    "name": "ipython",
    "version": 3
   },
   "file_extension": ".py",
   "mimetype": "text/x-python",
   "name": "python",
   "nbconvert_exporter": "python",
   "pygments_lexer": "ipython3",
   "version": "3.8.8"
  }
 },
 "nbformat": 4,
 "nbformat_minor": 5
}
